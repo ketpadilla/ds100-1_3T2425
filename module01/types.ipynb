{
 "cells": [
  {
   "cell_type": "markdown",
   "metadata": {},
   "source": [
    "# Python for Data Science, AI & Development\n",
    "## Module 01\n",
    "### Types\n",
    "\n",
    "Created: May 03, 2025<br>\n",
    "Author: Kristian Padilla"
   ]
  },
  {
   "cell_type": "code",
   "execution_count": 4,
   "metadata": {},
   "outputs": [
    {
     "name": "stdout",
     "output_type": "stream",
     "text": [
      "11 is of type <class 'int'>\n",
      "21.213 is of type <class 'float'>\n",
      "11.0 is of type <class 'float'>\n"
     ]
    }
   ],
   "source": [
    "intNum = 11\n",
    "floatNum = 21.213\n",
    "\n",
    "print(intNum, \"is of type\", type(intNum))\n",
    "print(floatNum, \"is of type\", type(floatNum))\n",
    "\n",
    "# Type Casting\n",
    "## Converts one type to another\n",
    "### e.g. int to float\n",
    "intToFloat = float(intNum)\n",
    "print(intToFloat, \"is of type\", type(intToFloat))\n"
   ]
  },
  {
   "cell_type": "code",
   "execution_count": 6,
   "metadata": {},
   "outputs": [
    {
     "name": "stdout",
     "output_type": "stream",
     "text": [
      "True is of type <class 'bool'>\n",
      "True is equivalent to 1\n",
      "False is equivalent to 0\n"
     ]
    }
   ],
   "source": [
    "bool = True\n",
    "print(bool, \"is of type\", type(bool))\n",
    "\n",
    "# Boolean equivalent values\n",
    "print(\"True is equivalent to\", int(True))\n",
    "print(\"False is equivalent to\", int(False))"
   ]
  },
  {
   "cell_type": "code",
   "execution_count": 5,
   "metadata": {},
   "outputs": [
    {
     "name": "stdout",
     "output_type": "stream",
     "text": [
      "Hello, World! is of type <class 'str'>\n"
     ]
    }
   ],
   "source": [
    "str = \"Hello, World!\"\n",
    "print(str, \"is of type\", type(str))"
   ]
  },
  {
   "cell_type": "code",
   "execution_count": null,
   "metadata": {},
   "outputs": [],
   "source": []
  }
 ],
 "metadata": {
  "kernelspec": {
   "display_name": ".venv",
   "language": "python",
   "name": "python3"
  },
  "language_info": {
   "codemirror_mode": {
    "name": "ipython",
    "version": 3
   },
   "file_extension": ".py",
   "mimetype": "text/x-python",
   "name": "python",
   "nbconvert_exporter": "python",
   "pygments_lexer": "ipython3",
   "version": "3.13.1"
  }
 },
 "nbformat": 4,
 "nbformat_minor": 2
}
