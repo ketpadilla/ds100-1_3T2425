{
 "cells": [
  {
   "cell_type": "markdown",
   "metadata": {
    "vscode": {
     "languageId": "plaintext"
    }
   },
   "source": [
    "# Python for Data Science, AI & Development\n",
    "## Module 01\n",
    "### Expression and Variables\n",
    "\n",
    "Created: May 03, 2025<br>\n",
    "Author: Kristian Padilla"
   ]
  },
  {
   "cell_type": "markdown",
   "metadata": {},
   "source": [
    "### Expression\n",
    "A type of operation a computer performs\n",
    "- Python supports _basic arithmetic operations_\n",
    "- Python follows **PEMDAS**"
   ]
  },
  {
   "cell_type": "code",
   "execution_count": 2,
   "metadata": {},
   "outputs": [
    {
     "name": "stdout",
     "output_type": "stream",
     "text": [
      "A + B = 30\n",
      "A - B = -10\n",
      "A * B = 200\n",
      "A / B = 0.5\n",
      "A // B = 0\n",
      "A % B = 10\n",
      "A ** B = 100000000000000000000\n"
     ]
    }
   ],
   "source": [
    "A = 10\n",
    "B = 20\n",
    "\n",
    "# Addition\n",
    "print(\"A + B =\", A + B)\n",
    "\n",
    "# Subtraction\n",
    "print(\"A - B =\", A - B)\n",
    "\n",
    "# Multiplication\n",
    "print(\"A * B =\", A * B)\n",
    "\n",
    "# Division\n",
    "print(\"A / B =\", A / B)\n",
    "\n",
    "# Integer Division\n",
    "print(\"A // B =\", A // B)\n",
    "\n",
    "# Modulo\n",
    "print(\"A % B =\", A % B)\n",
    "\n",
    "# Exponentiation\n",
    "print(\"A ** B =\", A ** B)"
   ]
  },
  {
   "cell_type": "markdown",
   "metadata": {},
   "source": [
    "### Variables\n",
    "Used to store values"
   ]
  },
  {
   "cell_type": "code",
   "execution_count": 4,
   "metadata": {},
   "outputs": [
    {
     "name": "stdout",
     "output_type": "stream",
     "text": [
      "10\n",
      "20\n",
      "30\n"
     ]
    }
   ],
   "source": [
    "# Variables are assigned using the `=` operator\n",
    "var = 10\n",
    "print(var)\n",
    "\n",
    "# Variables can be reassigned\n",
    "var = 20\n",
    "print(var)\n",
    "\n",
    "# Variables can be used in expressions\n",
    "result = var + 10\n",
    "print(result)"
   ]
  },
  {
   "cell_type": "code",
   "execution_count": null,
   "metadata": {},
   "outputs": [],
   "source": []
  }
 ],
 "metadata": {
  "kernelspec": {
   "display_name": ".venv",
   "language": "python",
   "name": "python3"
  },
  "language_info": {
   "codemirror_mode": {
    "name": "ipython",
    "version": 3
   },
   "file_extension": ".py",
   "mimetype": "text/x-python",
   "name": "python",
   "nbconvert_exporter": "python",
   "pygments_lexer": "ipython3",
   "version": "3.13.1"
  }
 },
 "nbformat": 4,
 "nbformat_minor": 2
}
